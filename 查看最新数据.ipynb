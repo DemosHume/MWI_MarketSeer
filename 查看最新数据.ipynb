{
 "cells": [
  {
   "cell_type": "code",
   "id": "initial_id",
   "metadata": {
    "collapsed": true
   },
   "source": [
    "from utils import query\n",
    "from utils import timestamp_to_beijing_time\n",
    "from utils import refresh_market_data\n"
   ],
   "outputs": [],
   "execution_count": null
  },
  {
   "metadata": {},
   "cell_type": "code",
   "source": "refresh_market_data()",
   "id": "a4c77ea46a04a61c",
   "outputs": [],
   "execution_count": null
  },
  {
   "metadata": {},
   "cell_type": "code",
   "source": [
    "sql = f'select * from ask order by time DESC LIMIT {24*7}'\n",
    "df = query(sql,fname='market.db')\n",
    "# df = df.loc[:, ( (df.max() < 1e4) & ( (df.min() > 1)) ) | (df.columns == 'time')]\n",
    "# df['time']转成可视化\n",
    "time_new = df['time'].apply(lambda x: timestamp_to_beijing_time(x))\n",
    "# 加到第一列\n",
    "df = df.assign(time=time_new)\n"
   ],
   "id": "2de6734c2319ef20",
   "outputs": [],
   "execution_count": null
  },
  {
   "metadata": {},
   "cell_type": "code",
   "source": "",
   "id": "d4ecf9644ec5f96d",
   "outputs": [],
   "execution_count": null
  },
  {
   "metadata": {},
   "cell_type": "code",
   "source": [
    "# 只显示列名带milk和time列\n",
    "df_milk = df.loc[:, df.columns.str.lower().str.endswith('milk') | (df.columns.str.lower() == 'time')]\n",
    "df_milk"
   ],
   "id": "ca40025f4a9c85d3",
   "outputs": [],
   "execution_count": null
  },
  {
   "metadata": {},
   "cell_type": "code",
   "source": [
    "df_long = df_milk.melt(id_vars='time', var_name='commodity', value_name='price')\n",
    "df_long"
   ],
   "id": "bbc60784b3126cca",
   "outputs": [],
   "execution_count": null
  },
  {
   "metadata": {},
   "cell_type": "code",
   "source": "",
   "id": "df56f529f3df8559",
   "outputs": [],
   "execution_count": null
  }
 ],
 "metadata": {
  "kernelspec": {
   "display_name": "Python 3",
   "language": "python",
   "name": "python3"
  },
  "language_info": {
   "codemirror_mode": {
    "name": "ipython",
    "version": 2
   },
   "file_extension": ".py",
   "mimetype": "text/x-python",
   "name": "python",
   "nbconvert_exporter": "python",
   "pygments_lexer": "ipython2",
   "version": "2.7.6"
  }
 },
 "nbformat": 4,
 "nbformat_minor": 5
}
