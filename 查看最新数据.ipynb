{
 "cells": [
  {
   "cell_type": "code",
   "id": "initial_id",
   "metadata": {
    "collapsed": true
   },
   "source": [
    "# 408 商品\t Snake Fang Dirk \t的涨幅为 75.37%\n",
    "# 62 商品\t Blessed Tea \t的涨幅为 35.56%\n",
    "# 296 商品\t Strawberry Donut \t的涨幅为 31.47%\n",
    "# 360 商品\t Cheesesmithing Tea \t的涨幅为 28.24%\n",
    "# 224 商品\t Poke \t的涨幅为 26.18%\n",
    "\n",
    "\n",
    "sql = 'select time ,`Redwood Lumber`,`Eyessence`,`Milk`,`Orange`,`Super Power Coffee` from ask'"
   ],
   "outputs": [],
   "execution_count": null
  },
  {
   "metadata": {},
   "cell_type": "code",
   "source": "",
   "id": "a55728ced0e97454",
   "outputs": [],
   "execution_count": null
  },
  {
   "metadata": {},
   "cell_type": "code",
   "source": [
    "from utils import query\n",
    "\n",
    "df = query(sql,fname='../market.db')"
   ],
   "id": "8679ef612bfd4779",
   "outputs": [],
   "execution_count": null
  },
  {
   "metadata": {},
   "cell_type": "code",
   "source": [
    "from utils import timestamp_to_beijing_time\n",
    "\n",
    "# df['time']转成可视化\n",
    "time_new = df['time'].apply(lambda x: timestamp_to_beijing_time(x))\n",
    "df['time_new'] = time_new\n",
    "df"
   ],
   "id": "ec6bb586c5ddb351",
   "outputs": [],
   "execution_count": null
  },
  {
   "metadata": {},
   "cell_type": "code",
   "source": "",
   "id": "ca40025f4a9c85d3",
   "outputs": [],
   "execution_count": null
  },
  {
   "metadata": {},
   "cell_type": "code",
   "source": "",
   "id": "df56f529f3df8559",
   "outputs": [],
   "execution_count": null
  }
 ],
 "metadata": {
  "kernelspec": {
   "display_name": "Python 3",
   "language": "python",
   "name": "python3"
  },
  "language_info": {
   "codemirror_mode": {
    "name": "ipython",
    "version": 2
   },
   "file_extension": ".py",
   "mimetype": "text/x-python",
   "name": "python",
   "nbconvert_exporter": "python",
   "pygments_lexer": "ipython2",
   "version": "2.7.6"
  }
 },
 "nbformat": 4,
 "nbformat_minor": 5
}
